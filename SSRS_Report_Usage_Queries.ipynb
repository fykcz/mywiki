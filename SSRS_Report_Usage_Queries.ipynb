{
    "metadata": {
        "kernelspec": {
            "name": "SQL",
            "display_name": "SQL",
            "language": "sql"
        },
        "language_info": {
            "name": "sql",
            "version": ""
        }
    },
    "nbformat_minor": 2,
    "nbformat": 4,
    "cells": [
        {
            "cell_type": "markdown",
            "source": [
                "# SSRS Report Usage Queries\r\n",
                "\r\n",
                "[Original article](https://stevestedman.com/2016/01/ssrs-report-usage-queries/)"
            ],
            "metadata": {
                "azdata_cell_guid": "22214bea-b932-4e94-9179-e900099ea218"
            },
            "attachments": {}
        },
        {
            "cell_type": "markdown",
            "source": [
                "## How many reports executions are in the log\n",
                ""
            ],
            "metadata": {
                "azdata_cell_guid": "0f86f080-7de7-4c07-976f-f5120db25455"
            },
            "attachments": {}
        },
        {
            "cell_type": "code",
            "source": [
                "SELECT COUNT(*) as NumberOfExecutions,\r\n",
                "MIN(ExecutionLog.TimeStart) as OldestTimeStamp\r\n",
                "FROM [ReportServer].[dbo].ExecutionLog(NOLOCK);"
            ],
            "metadata": {
                "azdata_cell_guid": "e795515d-1ccc-4339-aa20-ae8b3d8096a4",
                "language": "sql",
                "tags": []
            },
            "outputs": [],
            "execution_count": null
        },
        {
            "cell_type": "markdown",
            "source": [
                "## What is in the log"
            ],
            "metadata": {
                "language": "sql",
                "azdata_cell_guid": "d6abd5d5-8d29-4622-aa6e-b81d6f55d33b"
            },
            "attachments": {}
        },
        {
            "cell_type": "code",
            "source": [
                "SELECT TOP 100 c.Name,\r\n",
                "c.[Path],\r\n",
                "l.InstanceName,\r\n",
                "l.ReportID,\r\n",
                "l.UserName,\r\n",
                "l.RequestType,\r\n",
                "l.Format,\r\n",
                "l.Parameters,\r\n",
                "l.TimeStart,\r\n",
                "l.TimeEnd,\r\n",
                "l.TimeDataRetrieval,\r\n",
                "l.TimeProcessing,\r\n",
                "l.TimeRendering,\r\n",
                "l.Source,\r\n",
                "l.Status,\r\n",
                "l.ByteCount,\r\n",
                "l.[RowCount]\r\n",
                "FROM [ReportServer].[dbo].[ExecutionLog](NOLOCK) AS l\r\n",
                "INNER JOIN [ReportServer].[dbo].[Catalog](NOLOCK) AS c ON l.ReportID = C.ItemID\r\n",
                "WHERE c.Type = 2 -- Only show reports 1=folder, 2=Report, 3=Resource, 4=Linked Report, 5=Data Source\r\n",
                "ORDER BY l.TimeStart DESC;"
            ],
            "metadata": {
                "language": "sql",
                "azdata_cell_guid": "37b76d14-1a49-43c3-a182-8e22a597f000",
                "tags": [
                    "hide_input"
                ]
            },
            "outputs": [],
            "execution_count": null
        },
        {
            "cell_type": "markdown",
            "source": [
                "## List the reports with the number of executions and time last run"
            ],
            "metadata": {
                "language": "sql",
                "azdata_cell_guid": "b42b3bc2-a2c2-4291-93e2-e81387d97dc8"
            },
            "attachments": {}
        },
        {
            "cell_type": "code",
            "source": [
                "SELECT c.Name,\r\n",
                "c.[Path],\r\n",
                "COUNT(*) AS TimesRun,\r\n",
                "MAX(l.TimeStart) AS [LastRun]\r\n",
                "FROM [ReportServer].[dbo].[ExecutionLog](NOLOCK) AS l\r\n",
                "INNER JOIN [ReportServer].[dbo].[Catalog](NOLOCK) AS c ON l.ReportID = C.ItemID\r\n",
                "WHERE c.Type = 2 -- Only show reports 1=folder, 2=Report, 3=Resource, 4=Linked Report, 5=Data Source\r\n",
                "GROUP BY l.ReportId,\r\n",
                "c.Name,\r\n",
                "c.[Path];"
            ],
            "metadata": {
                "language": "sql",
                "azdata_cell_guid": "ea803f3e-6194-4b7b-83e9-d168064a63f3",
                "tags": [
                    "hide_input"
                ]
            },
            "outputs": [],
            "execution_count": null
        },
        {
            "cell_type": "markdown",
            "source": [
                "## List the reports with the number of executions and time last run, including datasources"
            ],
            "metadata": {
                "language": "sql",
                "azdata_cell_guid": "4b9472f1-b203-4edd-8481-93c61f6001e0"
            },
            "attachments": {}
        },
        {
            "cell_type": "code",
            "source": [
                "SELECT c.Name,\r\n",
                "c.[Path],\r\n",
                "COUNT(*) AS TimesRun,\r\n",
                "MAX(l.TimeStart) AS [LastRun],\r\n",
                "(\r\n",
                "SELECT SUBSTRING(\r\n",
                "(\r\n",
                "SELECT CAST(', ' AS VARCHAR(MAX))+CAST(c1.Name AS VARCHAR(MAX))\r\n",
                "FROM [ReportServer].[dbo].[Catalog] AS c\r\n",
                "INNER JOIN [ReportServer].[dbo].[DataSource] AS d ON c.ItemID = d.ItemID\r\n",
                "INNER JOIN [ReportServer].[dbo].[Catalog] c1 ON d.Link = c1.ItemID\r\n",
                "WHERE c.Type = 2\r\n",
                "AND c.ItemId = l.ReportId\r\n",
                "FOR XML PATH('')\r\n",
                "), 3, 10000000) AS list\r\n",
                ") AS DataSources\r\n",
                "FROM [ReportServer].[dbo].[ExecutionLog](NOLOCK) AS l\r\n",
                "INNER JOIN [ReportServer].[dbo].[Catalog](NOLOCK) AS c ON l.ReportID = C.ItemID\r\n",
                "WHERE c.Type = 2 -- Only show reports 1=folder, 2=Report, 3=Resource, 4=Linked Report, 5=Data Source\r\n",
                "GROUP BY l.ReportId,\r\n",
                "c.Name,\r\n",
                "c.[Path];"
            ],
            "metadata": {
                "language": "sql",
                "azdata_cell_guid": "949023d9-c04e-4293-9f63-bab49c4c09e8",
                "tags": [
                    "hide_input"
                ]
            },
            "outputs": [],
            "execution_count": null
        },
        {
            "cell_type": "markdown",
            "source": [
                "## List the reports with the number of executions and time last run, including datasources and who has been using the report"
            ],
            "metadata": {
                "language": "sql",
                "azdata_cell_guid": "c3517ca3-836e-4b20-a0e6-0ee9eb644a5b"
            },
            "attachments": {}
        },
        {
            "cell_type": "code",
            "source": [
                "SELECT c.Name,\r\n",
                "c.[Path],\r\n",
                "COUNT(*) AS TimesRun,\r\n",
                "MAX(l.TimeStart) AS [LastRun],\r\n",
                "(\r\n",
                "SELECT SUBSTRING(\r\n",
                "(\r\n",
                "SELECT CAST(', ' AS VARCHAR(MAX))+CAST(c1.Name AS VARCHAR(MAX))\r\n",
                "FROM [ReportServer].[dbo].[Catalog] AS c\r\n",
                "INNER JOIN [ReportServer].[dbo].[DataSource] AS d ON c.ItemID = d.ItemID\r\n",
                "INNER JOIN [ReportServer].[dbo].[Catalog] c1 ON d.Link = c1.ItemID\r\n",
                "WHERE c.Type = 2\r\n",
                "AND c.ItemId = l.ReportId\r\n",
                "FOR XML PATH('')\r\n",
                "), 3, 10000000) AS list\r\n",
                ") AS DataSources,\r\n",
                "(\r\n",
                "SELECT SUBSTRING(\r\n",
                "(\r\n",
                "SELECT CAST(', ' AS VARCHAR(MAX))+CAST(REPLACE(t.UserName, 'DMIKRO\\', '') AS VARCHAR(MAX))\r\n",
                "FROM\r\n",
                "(\r\n",
                "SELECT TOP 100000 l2.UserName+'('+CAST(COUNT(*) AS VARCHAR(100))+')' AS UserName\r\n",
                "FROM [ReportServer].[dbo].[ExecutionLog](NOLOCK) AS l2\r\n",
                "WHERE l2.ReportID = l.ReportId\r\n",
                "GROUP BY l2.UserName\r\n",
                "ORDER BY COUNT(*) DESC\r\n",
                ") AS t\r\n",
                "FOR XML PATH('')\r\n",
                "), 3, 10000000)\r\n",
                ") AS UsedBy\r\n",
                "FROM [ReportServer].[dbo].[ExecutionLog](NOLOCK) AS l\r\n",
                "INNER JOIN [ReportServer].[dbo].[Catalog](NOLOCK) AS c ON l.ReportID = C.ItemID\r\n",
                "WHERE c.Type = 2 -- Only show reports 1=folder, 2=Report, 3=Resource, 4=Linked Report, 5=Data Source\r\n",
                "GROUP BY l.ReportId,\r\n",
                "c.Name,\r\n",
                "c.[Path];"
            ],
            "metadata": {
                "language": "sql",
                "azdata_cell_guid": "5f9270cf-72c4-4fbc-a86d-cb9c403bb91d",
                "tags": [
                    "hide_input"
                ]
            },
            "outputs": [],
            "execution_count": null
        },
        {
            "cell_type": "markdown",
            "source": [
                "## Reports that haven’t been run since the last time the log was cleared"
            ],
            "metadata": {
                "language": "sql",
                "azdata_cell_guid": "0b204437-c0d9-442e-9da2-26e935e06b12"
            },
            "attachments": {}
        },
        {
            "cell_type": "code",
            "source": [
                "SELECT c.Name,\r\n",
                "c.[Path]\r\n",
                "FROM [ReportServer].[dbo].[ExecutionLog](NOLOCK) AS l\r\n",
                "RIGHT OUTER JOIN [ReportServer].[dbo].[Catalog](NOLOCK) AS c ON l.ReportID = C.ItemID\r\n",
                "WHERE c.Type = 2 -- Only show reports 1=folder, 2=Report, 3=Resource, 4=Linked Report, 5=Data Source\r\n",
                "AND l.ReportID IS NULL;"
            ],
            "metadata": {
                "language": "sql",
                "azdata_cell_guid": "192f9bc3-9057-47ec-96e2-d1c073886ada",
                "tags": [
                    "hide_input"
                ]
            },
            "outputs": [],
            "execution_count": null
        },
        {
            "cell_type": "markdown",
            "source": [
                "## Reports by count that have been run in the last 24 hours"
            ],
            "metadata": {
                "language": "sql",
                "azdata_cell_guid": "c8f6fef3-58c4-4181-b6fc-5f0c699a03ed"
            },
            "attachments": {}
        },
        {
            "cell_type": "code",
            "source": [
                "SELECT c.Name,\r\n",
                "c.[Path],\r\n",
                "COUNT(*) AS TimesRun,\r\n",
                "MAX(l.TimeStart) AS [LastRun]\r\n",
                "FROM [ReportServer].[dbo].[ExecutionLog](NOLOCK) AS l\r\n",
                "INNER JOIN [ReportServer].[dbo].[Catalog](NOLOCK) AS c ON l.ReportID = C.ItemID\r\n",
                "WHERE c.Type = 2 -- Only show reports 1=folder, 2=Report, 3=Resource, 4=Linked Report, 5=Data Source\r\n",
                "AND l.TimeStart > GETDATE() - 1\r\n",
                "GROUP BY l.ReportId,\r\n",
                "c.Name,\r\n",
                "c.[Path];"
            ],
            "metadata": {
                "language": "sql",
                "azdata_cell_guid": "4a1a7905-5ab9-4415-aaa7-963fda36d132",
                "tags": [
                    "hide_input"
                ]
            },
            "outputs": [],
            "execution_count": null
        },
        {
            "cell_type": "markdown",
            "source": [
                "## Reports by count that have been run in the last 7 days"
            ],
            "metadata": {
                "language": "sql",
                "azdata_cell_guid": "ea9de91b-f5cd-4dc7-88a8-4ac7d276b004"
            },
            "attachments": {}
        },
        {
            "cell_type": "code",
            "source": [
                "SELECT c.Name,\r\n",
                "c.[Path],\r\n",
                "COUNT(*) AS TimesRun,\r\n",
                "MAX(l.TimeStart) AS [LastRun]\r\n",
                "FROM [ReportServer].[dbo].[ExecutionLog](NOLOCK) AS l\r\n",
                "INNER JOIN [ReportServer].[dbo].[Catalog](NOLOCK) AS c ON l.ReportID = C.ItemID\r\n",
                "WHERE c.Type = 2 -- Only show reports 1=folder, 2=Report, 3=Resource, 4=Linked Report, 5=Data Source\r\n",
                "AND l.TimeStart > GETDATE() - 7\r\n",
                "GROUP BY l.ReportId,\r\n",
                "c.Name,\r\n",
                "c.[Path];"
            ],
            "metadata": {
                "language": "sql",
                "azdata_cell_guid": "78b73db7-d600-4680-9f20-3195ea2cc823",
                "tags": [
                    "hide_input"
                ]
            },
            "outputs": [],
            "execution_count": null
        },
        {
            "cell_type": "markdown",
            "source": [
                "## Report usage by user"
            ],
            "metadata": {
                "language": "sql",
                "azdata_cell_guid": "a7cef2db-89c1-4cb6-879d-20c31d078ad7"
            },
            "attachments": {}
        },
        {
            "cell_type": "code",
            "source": [
                "SELECT l.UserName,\r\n",
                "COUNT(*) AS TimesRun,\r\n",
                "MAX(l.TimeStart) AS [LastReportRun]\r\n",
                "FROM [ReportServer].[dbo].[ExecutionLog](NOLOCK) AS l\r\n",
                "INNER JOIN [ReportServer].[dbo].[Catalog](NOLOCK) AS c ON l.ReportID = C.ItemID\r\n",
                "GROUP BY l.UserName;"
            ],
            "metadata": {
                "language": "sql",
                "azdata_cell_guid": "eea96489-b750-4e46-81d4-75d20e3b0b19",
                "tags": [
                    "hide_input"
                ]
            },
            "outputs": [],
            "execution_count": null
        },
        {
            "cell_type": "markdown",
            "source": [
                "## Reports Datasource"
            ],
            "metadata": {
                "language": "sql",
                "azdata_cell_guid": "a36f86c1-1d81-47c3-a40f-597999c44428"
            },
            "attachments": {}
        },
        {
            "cell_type": "code",
            "source": [
                "SELECT c.name,\r\n",
                "c1.Name datasource,\r\n",
                "c.ItemId\r\n",
                "FROM [ReportServer].[dbo].[Catalog] AS c\r\n",
                "INNER JOIN [ReportServer].[dbo].[DataSource] AS d ON c.ItemID = d.ItemID\r\n",
                "INNER JOIN [ReportServer].[dbo].[Catalog] c1 ON d.Link = c1.ItemID\r\n",
                "WHERE c.Type = 2"
            ],
            "metadata": {
                "language": "sql",
                "azdata_cell_guid": "0632c521-728f-44c2-946e-758f83086357",
                "tags": [
                    "hide_input"
                ]
            },
            "outputs": [],
            "execution_count": null
        },
        {
            "cell_type": "markdown",
            "source": [
                "## Long Running Reports by average execution time"
            ],
            "metadata": {
                "language": "sql",
                "azdata_cell_guid": "b0e3cf52-ce91-42d2-9d11-d5eb269a26d3"
            },
            "attachments": {}
        },
        {
            "cell_type": "code",
            "source": [
                "SELECT TOP 100 c.Name,\r\n",
                "c.[Path],\r\n",
                "AVG(l.TimeDataRetrieval + l.TimeProcessing + l.TimeRendering) / 1000.0 [AverageExecutionTimeSeconds],\r\n",
                "SUM(l.TimeDataRetrieval + l.TimeProcessing + l.TimeRendering) / 1000.0 [TotalExecutionTimeSeconds],\r\n",
                "SUM(l.TimeDataRetrieval + l.TimeProcessing + l.TimeRendering) / 1000.0 / 60 [TotalExecutionTimeMinutes],\r\n",
                "COUNT(*) TimesRun\r\n",
                "FROM [ReportServer].[dbo].[ExecutionLog](NOLOCK) AS l\r\n",
                "INNER JOIN [ReportServer].[dbo].[Catalog](NOLOCK) AS c ON l.ReportID = C.ItemID\r\n",
                "WHERE c.Type = 2 -- Only show reports 1=folder, 2=Report, 3=Resource, 4=Linked Report, 5=Data Source\r\n",
                "GROUP BY c.Name,\r\n",
                "c.[Path],\r\n",
                "l.InstanceName,\r\n",
                "l.ReportID\r\n",
                "HAVING AVG(l.TimeDataRetrieval + l.TimeProcessing + l.TimeRendering) / 1000.0 > 1\r\n",
                "ORDER BY AVG(l.TimeDataRetrieval + l.TimeProcessing + l.TimeRendering) DESC;"
            ],
            "metadata": {
                "language": "sql",
                "azdata_cell_guid": "909defa1-4318-4fca-963e-411c71f9a709",
                "tags": [
                    "hide_input"
                ]
            },
            "outputs": [],
            "execution_count": null
        },
        {
            "cell_type": "markdown",
            "source": [
                "## List the reports with the last time run"
            ],
            "metadata": {
                "language": "sql",
                "azdata_cell_guid": "48b2fbbb-d0bb-4327-93ff-00e8262a1ef9"
            },
            "attachments": {}
        },
        {
            "cell_type": "code",
            "source": [
                "SELECT c.Name,\r\n",
                "c.[Path],\r\n",
                "MAX(l.TimeStart) AS [LastRun]\r\n",
                "FROM [ReportServer].[dbo].[ExecutionLog] AS l WITH (NOLOCK)\r\n",
                "INNER JOIN [ReportServer].[dbo].[Catalog] AS c WITH (NOLOCK) ON l.ReportID = C.ItemID\r\n",
                "WHERE c.Type = 2 -- Only show reports 1=folder, 2=Report, 3=Resource, 4=Linked Report, 5=Data Source\r\n",
                "GROUP BY l.ReportId,\r\n",
                "c.Name,\r\n",
                "c.[Path]\r\n",
                "ORDER BY [LastRun] DESC;"
            ],
            "metadata": {
                "language": "sql",
                "azdata_cell_guid": "ff67ddfa-8b44-45e6-b5e2-beb3a0eeb7f7",
                "tags": [
                    "hide_input"
                ]
            },
            "outputs": [],
            "execution_count": null
        }
    ]
}